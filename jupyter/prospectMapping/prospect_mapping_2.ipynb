{
 "cells": [
  {
   "cell_type": "markdown",
   "id": "4415bcfe-3de9-47c0-aa8a-53ebe9a284e0",
   "metadata": {},
   "source": [
    "### Prospect Mapping 2\n",
    "\n",
    "#### After meeting\n",
    "- Establishment Aplicor ID will be useful to group the same schools\n",
    "- Option and completed are the good indiators from the stage\n",
    "- Maybe take averages rather than adding deciles to then be able to remove characteristics without a value\n",
    "- PP bracket is how much government help they get in percentage\n"
   ]
  },
  {
   "cell_type": "code",
   "execution_count": 1,
   "id": "8bbaf6bb-b1d6-4ceb-8c5f-977cfd8e17e3",
   "metadata": {},
   "outputs": [
    {
     "name": "stdout",
     "output_type": "stream",
     "text": [
      "index  |                     column name     |    number of entries\n",
      "-------------------------------------------------------------------------------------\n",
      "  0    |                      Account Name   |      187864\n",
      "  1    |          Establishment Aplicor ID   |      187858\n",
      "  2    |                Contact Aplicor ID   |      187864\n",
      "  3    |                             Stage   |      187514\n",
      "  4    |                Opportunity Source   |       87182\n",
      "  5    |                       Loss Reason   |       51912\n",
      "  6    |                           Product   |      183022\n",
      "  7    |                            Course   |       59973\n",
      "  8    |                 Booking Reference   |      187864\n",
      "  9    |             Centre(s) of Interest   |       63827\n",
      " 10    |                Accommodation Type   |       21327\n",
      " 11    |                      Arrival Date   |      165044\n",
      " 12    |                      Booking Date   |      139149\n",
      " 13    |                         Age Range   |       59343\n",
      " 14    |                Number of Children   |      160007\n",
      " 15    |                  Number of Adults   |      159168\n",
      " 16    |         Number of free passengers   |       43160\n",
      " 17    |                         Transport   |       20102\n",
      " 18    |          Cost per person Currency   |       46430\n",
      " 19    |                   Cost per person   |       46430\n",
      " 20    |                Requested Duration   |       37486\n",
      " 21    |            Gross Revenue Currency   |      116241\n",
      " 22    |                     Gross Revenue   |      116241\n",
      " 23    |                 Discount Currency   |      187856\n",
      " 24    |                          Discount   |      187856\n",
      " 25    |              Discount Explanation   |        7713\n",
      " 26    |                  Additional Needs   |       18869\n",
      " 27    |                       Competitors   |        3229\n",
      " 28    |                        Booking FY   |       86508\n",
      " 29    |                     Booking Month   |      139149\n",
      " 30    |                        Arrival FY   |      119442\n",
      " 31    |                     Arrival Month   |      165044\n",
      " 32    |    Days between Booking & Arrival   |      187819\n",
      " 33    |        Number of Children Banding   |      154771\n",
      " 34    |                      Centre Alias   |       56242\n",
      " 35    |                      Course Alias   |       59971\n",
      " 36    |                       First Order   |      187864\n",
      " 37    |                    First Order FY   |       41785\n",
      " 38    |                 First Order Month   |      187864\n",
      " 39    |                      New_Existing   |      187864\n",
      " 40    |                    Booking Season   |      139149\n",
      " 41    |                   Time Lapse Band   |      187819\n",
      " 42    |           Number of Children Band   |      154771\n",
      " 43    |                        PP Bracket   |       60284\n",
      " 44    |     School Size by Pupils Banding   |       61768\n",
      " 45    |       By Radias to Nearest Centre   |       61768\n",
      " 46    |                 Establishmet_Type   |       61768\n",
      " 47    |                      Decile_Value   |      143898\n",
      " 48    |                        Decile_F&M   |      143898\n",
      "-------------------------------------------------------------------------------------\n"
     ]
    }
   ],
   "source": [
    "# importing the necessary modules\n",
    "import pandas as pd\n",
    "import numpy as np\n",
    "from matplotlib import pyplot as plt\n",
    "from matplotlib.pyplot import close as clc\n",
    "# Importing the data from the .xlsx as a data frame using the pandas module\n",
    "df = pd.read_csv(\"PGL_data.csv\", low_memory = False)\n",
    "\n",
    "#Removing the unecessary columns by name\n",
    "df.drop(columns = {'Column21', 'Column22', 'Column23', 'Column24'}, inplace=True)\n",
    "col = df.columns.tolist()\n",
    "\n",
    "print('index  |                     column name     |    number of entries')\n",
    "print('-------------------------------------------------------------------------------------')\n",
    "for heading in col:\n",
    "    print(\"%3.0f    |    %30s   |    %8.0f\" % (col.index(heading), heading, len(df[heading].loc[df[heading].notna()])))\n",
    "print('-------------------------------------------------------------------------------------')"
   ]
  },
  {
   "cell_type": "markdown",
   "id": "3bd2f165-d371-413d-80be-e56fe63d5c95",
   "metadata": {},
   "source": [
    "The schools need to be grouped, lets see how many there are."
   ]
  },
  {
   "cell_type": "code",
   "execution_count": 2,
   "id": "35c746c0-df5e-42d1-8eed-2c444bd5d43d",
   "metadata": {},
   "outputs": [
    {
     "name": "stdout",
     "output_type": "stream",
     "text": [
      "Establishment Aplicor ID \t      | amount of entries\n",
      "----------------------------------------------------------\n"
     ]
    },
    {
     "data": {
      "text/plain": [
       "D3CDEA22-A407-4D55-8BB6-2CDEFA39D20B    591\n",
       "90019712-630C-46A5-97DA-3700973C36D4    139\n",
       "5418D529-39E2-451F-8FC0-12ED43A769D0    114\n",
       "750A0A98-2D53-451B-B4C0-D027AB49A048    106\n",
       "818D43DF-714A-4259-B90D-FA57279CDE5E    103\n",
       "Name: Establishment Aplicor ID, dtype: int64"
      ]
     },
     "execution_count": 2,
     "metadata": {},
     "output_type": "execute_result"
    }
   ],
   "source": [
    "print('Establishment Aplicor ID \\t      | amount of entries')\n",
    "print('----------------------------------------------------------')\n",
    "df[col[1]].loc[df[col[1]].notna()].value_counts().head(5)"
   ]
  },
  {
   "cell_type": "markdown",
   "id": "37bfe3b6-a7f0-422b-bad5-3cab46ffddd1",
   "metadata": {},
   "source": [
    "***\n",
    "So there are 20,608 schools on this record. By looking at the school that has 591 entries, the characteristics can be studied and see what they have in common with the other schools that have repeatedly used PGL."
   ]
  },
  {
   "cell_type": "code",
   "execution_count": 3,
   "id": "9d8788d3-5cb0-41d0-ba03-621dd07b2a8b",
   "metadata": {},
   "outputs": [
    {
     "data": {
      "text/html": [
       "<div>\n",
       "<style scoped>\n",
       "    .dataframe tbody tr th:only-of-type {\n",
       "        vertical-align: middle;\n",
       "    }\n",
       "\n",
       "    .dataframe tbody tr th {\n",
       "        vertical-align: top;\n",
       "    }\n",
       "\n",
       "    .dataframe thead th {\n",
       "        text-align: right;\n",
       "    }\n",
       "</style>\n",
       "<table border=\"1\" class=\"dataframe\">\n",
       "  <thead>\n",
       "    <tr style=\"text-align: right;\">\n",
       "      <th></th>\n",
       "      <th>Account Name</th>\n",
       "      <th>Establishment Aplicor ID</th>\n",
       "      <th>Contact Aplicor ID</th>\n",
       "      <th>Stage</th>\n",
       "      <th>Opportunity Source</th>\n",
       "      <th>Loss Reason</th>\n",
       "      <th>Product</th>\n",
       "      <th>Course</th>\n",
       "      <th>Booking Reference</th>\n",
       "      <th>Centre(s) of Interest</th>\n",
       "      <th>...</th>\n",
       "      <th>New_Existing</th>\n",
       "      <th>Booking Season</th>\n",
       "      <th>Time Lapse Band</th>\n",
       "      <th>Number of Children Band</th>\n",
       "      <th>PP Bracket</th>\n",
       "      <th>School Size by Pupils Banding</th>\n",
       "      <th>By Radias to Nearest Centre</th>\n",
       "      <th>Establishmet_Type</th>\n",
       "      <th>Decile_Value</th>\n",
       "      <th>Decile_F&amp;M</th>\n",
       "    </tr>\n",
       "  </thead>\n",
       "  <tbody>\n",
       "    <tr>\n",
       "      <th>1221</th>\n",
       "      <td>PGL Hen Party  (IT TEST RECORD) - nicktest2</td>\n",
       "      <td>D3CDEA22-A407-4D55-8BB6-2CDEFA39D20B</td>\n",
       "      <td>476E62B6-4BAE-4DEA-BE7D-6918F6D8A412</td>\n",
       "      <td>New</td>\n",
       "      <td>Brochure request</td>\n",
       "      <td>NaN</td>\n",
       "      <td>NaN</td>\n",
       "      <td>NaN</td>\n",
       "      <td>mm test</td>\n",
       "      <td>NaN</td>\n",
       "      <td>...</td>\n",
       "      <td>Existing</td>\n",
       "      <td>NaN</td>\n",
       "      <td>Do Not Apply</td>\n",
       "      <td>NaN</td>\n",
       "      <td>NaN</td>\n",
       "      <td>NaN</td>\n",
       "      <td>NaN</td>\n",
       "      <td>NaN</td>\n",
       "      <td>2.0</td>\n",
       "      <td>2.0</td>\n",
       "    </tr>\n",
       "    <tr>\n",
       "      <th>2069</th>\n",
       "      <td>PGL Hen Party  (IT TEST RECORD) - nicktest2</td>\n",
       "      <td>D3CDEA22-A407-4D55-8BB6-2CDEFA39D20B</td>\n",
       "      <td>096de55f-840f-9dbd-cfab-652c03e85dc7</td>\n",
       "      <td>Closed - Not Quoted</td>\n",
       "      <td>Email</td>\n",
       "      <td>Reason not Listed</td>\n",
       "      <td>AUK (Adventure UK)</td>\n",
       "      <td>NaN</td>\n",
       "      <td>AU21</td>\n",
       "      <td>NaN</td>\n",
       "      <td>...</td>\n",
       "      <td>Existing</td>\n",
       "      <td>NaN</td>\n",
       "      <td>Do Not Apply</td>\n",
       "      <td>NaN</td>\n",
       "      <td>NaN</td>\n",
       "      <td>NaN</td>\n",
       "      <td>NaN</td>\n",
       "      <td>NaN</td>\n",
       "      <td>2.0</td>\n",
       "      <td>2.0</td>\n",
       "    </tr>\n",
       "    <tr>\n",
       "      <th>2090</th>\n",
       "      <td>PGL Hen Party  (IT TEST RECORD) - nicktest2</td>\n",
       "      <td>D3CDEA22-A407-4D55-8BB6-2CDEFA39D20B</td>\n",
       "      <td>096de55f-840f-9dbd-cfab-652c03e85dc7</td>\n",
       "      <td>Closed - Not Quoted</td>\n",
       "      <td>Phone Call</td>\n",
       "      <td>Reason not Listed</td>\n",
       "      <td>AUK (Adventure UK)</td>\n",
       "      <td>NaN</td>\n",
       "      <td>AU22</td>\n",
       "      <td>NaN</td>\n",
       "      <td>...</td>\n",
       "      <td>Existing</td>\n",
       "      <td>NaN</td>\n",
       "      <td>Do Not Apply</td>\n",
       "      <td>NaN</td>\n",
       "      <td>NaN</td>\n",
       "      <td>NaN</td>\n",
       "      <td>NaN</td>\n",
       "      <td>NaN</td>\n",
       "      <td>2.0</td>\n",
       "      <td>2.0</td>\n",
       "    </tr>\n",
       "    <tr>\n",
       "      <th>5387</th>\n",
       "      <td>PGL Hen Party  (IT TEST RECORD) - nicktest2</td>\n",
       "      <td>D3CDEA22-A407-4D55-8BB6-2CDEFA39D20B</td>\n",
       "      <td>2DD6F70F-57E0-4473-ACA6-88F40C5E5854</td>\n",
       "      <td>New</td>\n",
       "      <td>NaN</td>\n",
       "      <td>NaN</td>\n",
       "      <td>NaN</td>\n",
       "      <td>NaN</td>\n",
       "      <td>Not in booking system</td>\n",
       "      <td>NaN</td>\n",
       "      <td>...</td>\n",
       "      <td>Existing</td>\n",
       "      <td>NaN</td>\n",
       "      <td>Do Not Apply</td>\n",
       "      <td>NaN</td>\n",
       "      <td>NaN</td>\n",
       "      <td>NaN</td>\n",
       "      <td>NaN</td>\n",
       "      <td>NaN</td>\n",
       "      <td>2.0</td>\n",
       "      <td>2.0</td>\n",
       "    </tr>\n",
       "    <tr>\n",
       "      <th>8820</th>\n",
       "      <td>PGL Hen Party  (IT TEST RECORD) - nicktest2</td>\n",
       "      <td>D3CDEA22-A407-4D55-8BB6-2CDEFA39D20B</td>\n",
       "      <td>538010DE-2D88-4248-B8B0-46A2DDF5B7A2</td>\n",
       "      <td>Closed - Not Quoted</td>\n",
       "      <td>Phone Call</td>\n",
       "      <td>Reason not Listed</td>\n",
       "      <td>LA (International)</td>\n",
       "      <td>NaN</td>\n",
       "      <td>LA22</td>\n",
       "      <td>NaN</td>\n",
       "      <td>...</td>\n",
       "      <td>Existing</td>\n",
       "      <td>NaN</td>\n",
       "      <td>Do Not Apply</td>\n",
       "      <td>NaN</td>\n",
       "      <td>NaN</td>\n",
       "      <td>NaN</td>\n",
       "      <td>NaN</td>\n",
       "      <td>NaN</td>\n",
       "      <td>2.0</td>\n",
       "      <td>2.0</td>\n",
       "    </tr>\n",
       "  </tbody>\n",
       "</table>\n",
       "<p>5 rows × 49 columns</p>\n",
       "</div>"
      ],
      "text/plain": [
       "                                     Account Name  \\\n",
       "1221  PGL Hen Party  (IT TEST RECORD) - nicktest2   \n",
       "2069  PGL Hen Party  (IT TEST RECORD) - nicktest2   \n",
       "2090  PGL Hen Party  (IT TEST RECORD) - nicktest2   \n",
       "5387  PGL Hen Party  (IT TEST RECORD) - nicktest2   \n",
       "8820  PGL Hen Party  (IT TEST RECORD) - nicktest2   \n",
       "\n",
       "                  Establishment Aplicor ID  \\\n",
       "1221  D3CDEA22-A407-4D55-8BB6-2CDEFA39D20B   \n",
       "2069  D3CDEA22-A407-4D55-8BB6-2CDEFA39D20B   \n",
       "2090  D3CDEA22-A407-4D55-8BB6-2CDEFA39D20B   \n",
       "5387  D3CDEA22-A407-4D55-8BB6-2CDEFA39D20B   \n",
       "8820  D3CDEA22-A407-4D55-8BB6-2CDEFA39D20B   \n",
       "\n",
       "                        Contact Aplicor ID                Stage  \\\n",
       "1221  476E62B6-4BAE-4DEA-BE7D-6918F6D8A412                  New   \n",
       "2069  096de55f-840f-9dbd-cfab-652c03e85dc7  Closed - Not Quoted   \n",
       "2090  096de55f-840f-9dbd-cfab-652c03e85dc7  Closed - Not Quoted   \n",
       "5387  2DD6F70F-57E0-4473-ACA6-88F40C5E5854                  New   \n",
       "8820  538010DE-2D88-4248-B8B0-46A2DDF5B7A2  Closed - Not Quoted   \n",
       "\n",
       "     Opportunity Source        Loss Reason             Product Course  \\\n",
       "1221   Brochure request                NaN                 NaN    NaN   \n",
       "2069              Email  Reason not Listed  AUK (Adventure UK)    NaN   \n",
       "2090         Phone Call  Reason not Listed  AUK (Adventure UK)    NaN   \n",
       "5387                NaN                NaN                 NaN    NaN   \n",
       "8820         Phone Call  Reason not Listed  LA (International)    NaN   \n",
       "\n",
       "          Booking Reference Centre(s) of Interest  ... New_Existing  \\\n",
       "1221                mm test                   NaN  ...     Existing   \n",
       "2069                   AU21                   NaN  ...     Existing   \n",
       "2090                   AU22                   NaN  ...     Existing   \n",
       "5387  Not in booking system                   NaN  ...     Existing   \n",
       "8820                   LA22                   NaN  ...     Existing   \n",
       "\n",
       "     Booking Season Time Lapse Band Number of Children Band  PP Bracket  \\\n",
       "1221            NaN    Do Not Apply                     NaN         NaN   \n",
       "2069            NaN    Do Not Apply                     NaN         NaN   \n",
       "2090            NaN    Do Not Apply                     NaN         NaN   \n",
       "5387            NaN    Do Not Apply                     NaN         NaN   \n",
       "8820            NaN    Do Not Apply                     NaN         NaN   \n",
       "\n",
       "      School Size by Pupils Banding  By Radias to Nearest Centre  \\\n",
       "1221                            NaN                          NaN   \n",
       "2069                            NaN                          NaN   \n",
       "2090                            NaN                          NaN   \n",
       "5387                            NaN                          NaN   \n",
       "8820                            NaN                          NaN   \n",
       "\n",
       "     Establishmet_Type Decile_Value  Decile_F&M  \n",
       "1221               NaN          2.0         2.0  \n",
       "2069               NaN          2.0         2.0  \n",
       "2090               NaN          2.0         2.0  \n",
       "5387               NaN          2.0         2.0  \n",
       "8820               NaN          2.0         2.0  \n",
       "\n",
       "[5 rows x 49 columns]"
      ]
     },
     "execution_count": 3,
     "metadata": {},
     "output_type": "execute_result"
    }
   ],
   "source": [
    "df.loc[df[col[1]] == 'D3CDEA22-A407-4D55-8BB6-2CDEFA39D20B'].head()"
   ]
  },
  {
   "cell_type": "markdown",
   "id": "3abc3d16-ca0d-40a4-a402-d234d2ca27e2",
   "metadata": {},
   "source": [
    "***\n",
    "Looks like this Establishment Aplicor ID has been created for Hen parties or an 'IT TEST RECORD'. Changed it to just print the first record for less clutter. The next highest establishment is a school so I am gathering that the rest are real schools.\n",
    "\n",
    "The line below takes all of the establishment aplicor ID's and turns them into a list stored in top_establishments"
   ]
  },
  {
   "cell_type": "code",
   "execution_count": 4,
   "id": "9dbad465-c14f-4c5c-849f-0e905eca65a7",
   "metadata": {},
   "outputs": [],
   "source": [
    "top_establishments_interaction = df[col[1]].loc[df[col[1]].notna()].value_counts().head(50)\n",
    "top_establishments = df[col[1]].loc[df[col[1]].notna()].value_counts().head(500).index.tolist()\n",
    "lower_establishments = df[col[1]].loc[df[col[1]].notna()].value_counts().tail(500).index.tolist()\n",
    "# removing the hen party IT one\n",
    "top_establishments.remove('D3CDEA22-A407-4D55-8BB6-2CDEFA39D20B')"
   ]
  },
  {
   "cell_type": "markdown",
   "id": "c5aa4360-5d6b-4c18-a2ee-c2c61bc9a55d",
   "metadata": {},
   "source": [
    "Now using this, lets plot the total revenue against the number of children."
   ]
  },
  {
   "cell_type": "markdown",
   "id": "98198dc9",
   "metadata": {},
   "source": [
    "This isn't showing much. What I have done is taken the top 50 and lower 500 schools and plotted the bar charts for the amount of government funding that they recieve. I think that it's not showing much becasue the schools will have the same amount of funding regardless? So this is skewing the bars. If this is a characteristic that the school has throughout then. Maybe taking a column that changes for each school each time that they use PGL. Below is the bar chart for booking season."
   ]
  },
  {
   "cell_type": "markdown",
   "id": "2c59d834",
   "metadata": {},
   "source": [
    "Thinking about it, using this method is risky as the top 50 schools give a lot more data points than the bottom 200 and the same school is being plotted potentially 100 times for the top ones. I think each school has to be averaged out for each column in order to make the plotting fairer.\n",
    "\n",
    "Below the goal will be to find either the aveages for columns that are unbounded values or the mode for those that are in bands. The best place to start is probabuly with the banding."
   ]
  },
  {
   "cell_type": "code",
   "execution_count": 8,
   "id": "d9544d1f-6623-40ae-8f28-f4ea8d38bf3a",
   "metadata": {},
   "outputs": [],
   "source": [
    "def mode_bar1(column,order):\n",
    "    \n",
    "    upper_schools = df.loc[df[col[1]].isin(top_establishments)]\n",
    "    upper_mode= upper_schools.groupby([col[1]])[column].agg(pd.Series.mode)\n",
    "    upper_mode = upper_mode[(upper_mode.str.len() > 0)]\n",
    "    \n",
    "    lower_schools = df.loc[df[col[1]].isin(lower_establishments)]\n",
    "    lower_mode = lower_schools.groupby([col[1]])[column].agg(pd.Series.mode)\n",
    "    lower_mode = lower_mode[lower_mode.str.len() > 0]\n",
    "    \n",
    "    upper_mode = pd.DataFrame(upper_mode); lower_mode = pd.DataFrame(lower_mode)\n",
    "\n",
    "    plt.suptitle('Chart to show the mode of each school for ' + column)\n",
    "    plt.subplot(1,2,1)\n",
    "    upper_mode.value_counts().sort_index().plot(kind='bar',figsize = (10,3))\n",
    "    plt.ylabel('Number of schools')\n",
    "    plt.xlabel(column + ' for upper schools')\n",
    "\n",
    "    plt.subplot(1,2,2)\n",
    "    lower_mode.reindex(order)\n",
    "    lower_mode.value_counts().plot(kind='bar', x = order, figsize = (10,5))\n",
    "    plt.ylabel('Number of schools')\n",
    "    plt.xlabel(column + ' for lower schools')\n",
    "\n",
    "order = pd.DataFrame({'order': ['0-100', '101-250', '251-500', '501-1000', '1001-1500', '1501-2001']})\n",
    "#order = ['0-100', '101-250', '251-500', '501-1000', '1001-1500', '1501-2001']\n",
    "\n",
    "#mode_bar1(col[44], order)"
   ]
  },
  {
   "cell_type": "code",
   "execution_count": 9,
   "id": "3cdf0cdd-4fb4-41b5-b774-0d3b442d3293",
   "metadata": {},
   "outputs": [],
   "source": [
    "#mode_bar1(col[43])\n",
    "plt.close()"
   ]
  },
  {
   "cell_type": "code",
   "execution_count": 29,
   "id": "7ea3ad14-f7dd-4327-adcf-d62c43a1ea00",
   "metadata": {},
   "outputs": [
    {
     "data": {
      "image/png": "[encoded data removed]",
      "text/plain": [
       "<Figure size 640x480 with 1 Axes>"
      ]
     },
     "metadata": {},
     "output_type": "display_data"
    }
   ],
   "source": [
    "def mode_bar(column,order):\n",
    "    upper_schools = df.loc[df[col[1]].isin(top_establishments)]\n",
    "    upper_mode= upper_schools.groupby([col[1]])[column].agg(pd.Series.mode)\n",
    "    upper_mode = upper_mode[(upper_mode.str.len() > 0)]\n",
    "    \n",
    "    lower_schools = df.loc[df[col[1]].isin(lower_establishments)]\n",
    "    lower_mode = lower_schools.groupby([col[1]])[column].agg(pd.Series.mode)\n",
    "    lower_mode = lower_mode[lower_mode.str.len() > 0]\n",
    "    \n",
    "    d = pd.DataFrame({'upper_mode' : upper_mode.value_counts(), 'lower_mode' : lower_mode.value_counts()})\n",
    "    if order != 0:\n",
    "        d.sort_index().loc[order].plot.bar()\n",
    "    else:\n",
    "        d.sort_index().plot.bar()\n",
    "    plt.legend()\n",
    "    plt.title('Chart to show the mode of each school for ' + column)\n",
    "    plt.xlabel(column)\n",
    "    plt.ylabel('Number of schools')\n",
    "\n",
    "order = ['0-100','101-250','251-500','501-1000','1001-1500','1501-2001']\n",
    "mode_bar(col[44],order)"
   ]
  },
  {
   "cell_type": "markdown",
   "id": "cbfb63c1-ba5f-4965-a7a1-84ea4dc961b3",
   "metadata": {},
   "source": []
  },
  {
   "cell_type": "code",
   "execution_count": 30,
   "id": "8e63fc0e-a2e9-46ce-b71e-7b361930f687",
   "metadata": {},
   "outputs": [
    {
     "data": {
      "image/png": "[encoded data removed]",
      "text/plain": [
       "<Figure size 640x480 with 1 Axes>"
      ]
     },
     "metadata": {},
     "output_type": "display_data"
    }
   ],
   "source": [
    "mode_bar(col[43], 0)"
   ]
  },
  {
   "cell_type": "code",
   "execution_count": 12,
   "id": "688a7e88-643b-40b5-833a-5debed8b8277",
   "metadata": {},
   "outputs": [],
   "source": [
    "\n",
    "upper_schools = df.loc[df[col[1]].isin(top_establishments)]\n",
    "upper_mode= upper_schools.groupby([col[1]])[col[33]].value_counts()\n",
    "#upper_mode = upper_mode[(upper_mode.str.len() > 0)]\n",
    "\n",
    "#lower_schools = df.loc[df[col[1]].isin(lower_establishments)]\n",
    "#lower_mode = lower_schools.groupby([col[1]])[col[31]].mean()\n",
    "#lower_mode = lower_mode[lower_mode.str.len() > 0]\n",
    "\n",
    "#d = pd.DataFrame({'upper_mode' : upper_mode.value_counts(), 'lower_mode' : lower_mode.value_counts()})\n",
    "#d.sort_index().plot.bar()\n",
    "#plt.legend()\n",
    "#plt.title('Chart to show the mode of each school for ' + column)\n",
    "#plt.xlabel(column)\n",
    "#plt.ylabel('Number of schools')"
   ]
  }
 ],
 "metadata": {
  "kernelspec": {
   "display_name": "Python 3 (ipykernel)",
   "language": "python",
   "name": "python3"
  },
  "language_info": {
   "codemirror_mode": {
    "name": "ipython",
    "version": 3
   },
   "file_extension": ".py",
   "mimetype": "text/x-python",
   "name": "python",
   "nbconvert_exporter": "python",
   "pygments_lexer": "ipython3",
   "version": "3.10.8"
  },
  "vscode": {
   "interpreter": {
    "hash": "767d51c1340bd893661ea55ea3124f6de3c7a262a8b4abca0554b478b1e2ff90"
   }
  }
 },
 "nbformat": 4,
 "nbformat_minor": 5
}
