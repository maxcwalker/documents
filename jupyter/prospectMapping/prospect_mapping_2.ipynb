{
 "cells": [
  {
   "cell_type": "markdown",
   "id": "4415bcfe-3de9-47c0-aa8a-53ebe9a284e0",
   "metadata": {},
   "source": [
    "### Prospect Mapping 2\n",
    "\n",
    "#### After meeting\n",
    "- Establishment Aplicor ID will be useful to group the same schools\n",
    "- Option and completed are the good indiators from the stage\n",
    "- Maybe take averages rather than adding deciles to then be able to remove characteristics without a value\n",
    "- PP bracket is how much government help they get in percentage (I think)\n"
   ]
  },
  {
   "cell_type": "code",
   "execution_count": 5,
   "id": "8bbaf6bb-b1d6-4ceb-8c5f-977cfd8e17e3",
   "metadata": {},
   "outputs": [
    {
     "name": "stdout",
     "output_type": "stream",
     "text": [
      "index  |                     column name     |    number of entries\n",
      "-------------------------------------------------------------------------------------\n",
      "  0    |                      Account Name   |      187864\n",
      "  1    |          Establishment Aplicor ID   |      187858\n",
      "  2    |                Contact Aplicor ID   |      187864\n",
      "  3    |                             Stage   |      187514\n",
      "  4    |                Opportunity Source   |       87182\n",
      "  5    |                       Loss Reason   |       51912\n",
      "  6    |                           Product   |      183022\n",
      "  7    |                            Course   |       59973\n",
      "  8    |                 Booking Reference   |      187864\n",
      "  9    |             Centre(s) of Interest   |       63827\n",
      " 10    |                Accommodation Type   |       21327\n",
      " 11    |                      Arrival Date   |      165044\n",
      " 12    |                      Booking Date   |      139149\n",
      " 13    |                         Age Range   |       59343\n",
      " 14    |                Number of Children   |      160007\n",
      " 15    |                  Number of Adults   |      159168\n",
      " 16    |         Number of free passengers   |       43160\n",
      " 17    |                         Transport   |       20102\n",
      " 18    |          Cost per person Currency   |       46430\n",
      " 19    |                   Cost per person   |       46430\n",
      " 20    |                Requested Duration   |       37486\n",
      " 21    |            Gross Revenue Currency   |      116241\n",
      " 22    |                     Gross Revenue   |      116241\n",
      " 23    |                 Discount Currency   |      187856\n",
      " 24    |                          Discount   |      187856\n",
      " 25    |              Discount Explanation   |        7713\n",
      " 26    |                  Additional Needs   |       18869\n",
      " 27    |                       Competitors   |        3229\n",
      " 28    |                        Booking FY   |       86508\n",
      " 29    |                     Booking Month   |      139149\n",
      " 30    |                        Arrival FY   |      119442\n",
      " 31    |                     Arrival Month   |      165044\n",
      " 32    |    Days between Booking & Arrival   |      187819\n",
      " 33    |        Number of Children Banding   |      154771\n",
      " 34    |                      Centre Alias   |       56242\n",
      " 35    |                      Course Alias   |       59971\n",
      " 36    |                       First Order   |      187864\n",
      " 37    |                    First Order FY   |       41785\n",
      " 38    |                 First Order Month   |      187864\n",
      " 39    |                      New_Existing   |      187864\n",
      " 40    |                    Booking Season   |      139149\n",
      " 41    |                   Time Lapse Band   |      187819\n",
      " 42    |           Number of Children Band   |      154771\n",
      " 43    |                        PP Bracket   |       60284\n",
      " 44    |     School Size by Pupils Banding   |       61768\n",
      " 45    |       By Radias to Nearest Centre   |       61768\n",
      " 46    |                 Establishmet_Type   |       61768\n",
      " 47    |                      Decile_Value   |      143898\n",
      " 48    |                        Decile_F&M   |      143898\n",
      " 49    |                          Column21   |           0\n",
      " 50    |                          Column22   |           0\n",
      " 51    |                          Column23   |           0\n",
      " 52    |                          Column24   |           0\n",
      "-------------------------------------------------------------------------------------\n"
     ]
    }
   ],
   "source": [
    "# importing the necessary modules\n",
    "import pandas as pd\n",
    "import numpy as np\n",
    "from matplotlib import pyplot as plt\n",
    "# Importing the data from the .xlsx as a data frame using the pandas module\n",
    "df = pd.read_csv(\"PGL_data.csv\", low_memory = False)\n",
    "\n",
    "col = df.columns.tolist()\n",
    "\n",
    "print('index  |                     column name     |    number of entries')\n",
    "print('-------------------------------------------------------------------------------------')\n",
    "for heading in col:\n",
    "    print(\"%3.0f    |    %30s   |    %8.0f\" % (col.index(heading), heading, len(df[heading].loc[df[heading].notna()])))\n",
    "print('-------------------------------------------------------------------------------------')"
   ]
  },
  {
   "cell_type": "markdown",
   "id": "3bd2f165-d371-413d-80be-e56fe63d5c95",
   "metadata": {},
   "source": [
    "The schools need to be grouped, lets see how many there are."
   ]
  },
  {
   "cell_type": "code",
   "execution_count": 52,
   "id": "35c746c0-df5e-42d1-8eed-2c444bd5d43d",
   "metadata": {},
   "outputs": [
    {
     "name": "stdout",
     "output_type": "stream",
     "text": [
      "Establishment Aplicor ID \t      | amount of entries\n",
      "----------------------------------------------------------\n"
     ]
    },
    {
     "data": {
      "text/plain": [
       "D3CDEA22-A407-4D55-8BB6-2CDEFA39D20B    591\n",
       "90019712-630C-46A5-97DA-3700973C36D4    139\n",
       "5418D529-39E2-451F-8FC0-12ED43A769D0    114\n",
       "750A0A98-2D53-451B-B4C0-D027AB49A048    106\n",
       "818D43DF-714A-4259-B90D-FA57279CDE5E    103\n",
       "                                       ... \n",
       "3E826B6D-F67F-4342-B937-7E2535CF337D      1\n",
       "1280CC0F-1CD8-40CC-871A-65A459F1FEB3      1\n",
       "4E605498-4027-44E8-BBE9-52352D67AEC4      1\n",
       "260ADEC5-E5A4-4091-A6CB-66E343CCBC7D      1\n",
       "ecb2959d-9769-a4ba-ae2f-5c8368a8308f      1\n",
       "Name: Establishment Aplicor ID, Length: 20608, dtype: int64"
      ]
     },
     "execution_count": 52,
     "metadata": {},
     "output_type": "execute_result"
    }
   ],
   "source": [
    "print('Establishment Aplicor ID \\t      | amount of entries')\n",
    "print('----------------------------------------------------------')\n",
    "df[col[1]].loc[df[col[1]].notna()].value_counts()"
   ]
  },
  {
   "cell_type": "markdown",
   "id": "37bfe3b6-a7f0-422b-bad5-3cab46ffddd1",
   "metadata": {},
   "source": [
    "So there are 20,608 schools on this record. By looking at the school that has 591 entries, the characteristics can be studied and see what they have in common with the other schools that have repeatedly used PGL."
   ]
  },
  {
   "cell_type": "code",
   "execution_count": 49,
   "id": "3cde4345-2ded-4599-99da-e936b0c5cda0",
   "metadata": {},
   "outputs": [
    {
     "data": {
      "text/plain": [
       "0           NaN\n",
       "1           NaN\n",
       "2           NaN\n",
       "3           NaN\n",
       "4           NaN\n",
       "          ...  \n",
       "187859      NaN\n",
       "187860      NaN\n",
       "187861      NaN\n",
       "187862    190.0\n",
       "187863      NaN\n",
       "Name: Gross Revenue, Length: 185757, dtype: float64"
      ]
     },
     "execution_count": 49,
     "metadata": {},
     "output_type": "execute_result"
    }
   ],
   "source": [
    "dx = df[col[22]].groupby(df[col[1]])\n",
    "dx.head(50)"
   ]
  }
 ],
 "metadata": {
  "kernelspec": {
   "display_name": "Python 3 (ipykernel)",
   "language": "python",
   "name": "python3"
  },
  "language_info": {
   "codemirror_mode": {
    "name": "ipython",
    "version": 3
   },
   "file_extension": ".py",
   "mimetype": "text/x-python",
   "name": "python",
   "nbconvert_exporter": "python",
   "pygments_lexer": "ipython3",
   "version": "3.10.8"
  }
 },
 "nbformat": 4,
 "nbformat_minor": 5
}
