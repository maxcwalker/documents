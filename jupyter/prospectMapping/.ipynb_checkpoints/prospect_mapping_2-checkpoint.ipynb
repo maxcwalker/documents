{
 "cells": [
  {
   "cell_type": "markdown",
   "id": "4415bcfe-3de9-47c0-aa8a-53ebe9a284e0",
   "metadata": {},
   "source": [
    "### Prospect Mapping 2\n",
    "\n",
    "#### After meeting\n",
    "- Establishment Aplicor ID will be useful to group the same schools\n",
    "- Option and completed are the good indiators from the stage\n",
    "- Maybe take averages rather than adding deciles to then be able to remove characteristics without a value\n",
    "- PP bracket is how much government help they get in percentage\n"
   ]
  },
  {
   "cell_type": "code",
   "execution_count": 1,
   "id": "8bbaf6bb-b1d6-4ceb-8c5f-977cfd8e17e3",
   "metadata": {},
   "outputs": [
    {
     "name": "stdout",
     "output_type": "stream",
     "text": [
      "index  |                     column name     |    number of entries\n",
      "-------------------------------------------------------------------------------------\n",
      "  0    |                      Account Name   |      187864\n",
      "  1    |          Establishment Aplicor ID   |      187858\n",
      "  2    |                Contact Aplicor ID   |      187864\n",
      "  3    |                             Stage   |      187514\n",
      "  4    |                Opportunity Source   |       87182\n",
      "  5    |                       Loss Reason   |       51912\n",
      "  6    |                           Product   |      183022\n",
      "  7    |                            Course   |       59973\n",
      "  8    |                 Booking Reference   |      187864\n",
      "  9    |             Centre(s) of Interest   |       63827\n",
      " 10    |                Accommodation Type   |       21327\n",
      " 11    |                      Arrival Date   |      165044\n",
      " 12    |                      Booking Date   |      139149\n",
      " 13    |                         Age Range   |       59343\n",
      " 14    |                Number of Children   |      160007\n",
      " 15    |                  Number of Adults   |      159168\n",
      " 16    |         Number of free passengers   |       43160\n",
      " 17    |                         Transport   |       20102\n",
      " 18    |          Cost per person Currency   |       46430\n",
      " 19    |                   Cost per person   |       46430\n",
      " 20    |                Requested Duration   |       37486\n",
      " 21    |            Gross Revenue Currency   |      116241\n",
      " 22    |                     Gross Revenue   |      116241\n",
      " 23    |                 Discount Currency   |      187856\n",
      " 24    |                          Discount   |      187856\n",
      " 25    |              Discount Explanation   |        7713\n",
      " 26    |                  Additional Needs   |       18869\n",
      " 27    |                       Competitors   |        3229\n",
      " 28    |                        Booking FY   |       86508\n",
      " 29    |                     Booking Month   |      139149\n",
      " 30    |                        Arrival FY   |      119442\n",
      " 31    |                     Arrival Month   |      165044\n",
      " 32    |    Days between Booking & Arrival   |      187819\n",
      " 33    |        Number of Children Banding   |      154771\n",
      " 34    |                      Centre Alias   |       56242\n",
      " 35    |                      Course Alias   |       59971\n",
      " 36    |                       First Order   |      187864\n",
      " 37    |                    First Order FY   |       41785\n",
      " 38    |                 First Order Month   |      187864\n",
      " 39    |                      New_Existing   |      187864\n",
      " 40    |                    Booking Season   |      139149\n",
      " 41    |                   Time Lapse Band   |      187819\n",
      " 42    |           Number of Children Band   |      154771\n",
      " 43    |                        PP Bracket   |       60284\n",
      " 44    |     School Size by Pupils Banding   |       61768\n",
      " 45    |       By Radias to Nearest Centre   |       61768\n",
      " 46    |                 Establishmet_Type   |       61768\n",
      " 47    |                      Decile_Value   |      143898\n",
      " 48    |                        Decile_F&M   |      143898\n",
      "-------------------------------------------------------------------------------------\n"
     ]
    }
   ],
   "source": [
    "# importing the necessary modules\n",
    "import pandas as pd\n",
    "import numpy as np\n",
    "from matplotlib import pyplot as plt\n",
    "from matplotlib.pyplot import close as clc\n",
    "import seaborn as sns\n",
    "# Importing the data from the .xlsx as a data frame using the pandas module\n",
    "df = pd.read_csv(\"PGL_data.csv\", low_memory = False)\n",
    "\n",
    "#Removing the unecessary columns by name\n",
    "df.drop(columns = {'Column21', 'Column22', 'Column23', 'Column24'}, inplace=True)\n",
    "col = df.columns.tolist()\n",
    "\n",
    "print('index  |                     column name     |    number of entries')\n",
    "print('-------------------------------------------------------------------------------------')\n",
    "for heading in col:\n",
    "    print(\"%3.0f    |    %30s   |    %8.0f\" % (col.index(heading), heading, len(df[heading].loc[df[heading].notna()])))\n",
    "print('-------------------------------------------------------------------------------------')"
   ]
  },
  {
   "cell_type": "markdown",
   "id": "3bd2f165-d371-413d-80be-e56fe63d5c95",
   "metadata": {},
   "source": [
    "The schools need to be grouped, lets see how many there are."
   ]
  },
  {
   "cell_type": "code",
   "execution_count": 2,
   "id": "35c746c0-df5e-42d1-8eed-2c444bd5d43d",
   "metadata": {},
   "outputs": [
    {
     "name": "stdout",
     "output_type": "stream",
     "text": [
      "Establishment Aplicor ID \t      | amount of entries\n",
      "----------------------------------------------------------\n"
     ]
    },
    {
     "data": {
      "text/plain": [
       "D3CDEA22-A407-4D55-8BB6-2CDEFA39D20B    591\n",
       "90019712-630C-46A5-97DA-3700973C36D4    139\n",
       "5418D529-39E2-451F-8FC0-12ED43A769D0    114\n",
       "750A0A98-2D53-451B-B4C0-D027AB49A048    106\n",
       "818D43DF-714A-4259-B90D-FA57279CDE5E    103\n",
       "Name: Establishment Aplicor ID, dtype: int64"
      ]
     },
     "execution_count": 2,
     "metadata": {},
     "output_type": "execute_result"
    }
   ],
   "source": [
    "print('Establishment Aplicor ID \\t      | amount of entries')\n",
    "print('----------------------------------------------------------')\n",
    "df[col[1]].loc[df[col[1]].notna()].value_counts().head(5)"
   ]
  },
  {
   "cell_type": "markdown",
   "id": "37bfe3b6-a7f0-422b-bad5-3cab46ffddd1",
   "metadata": {},
   "source": [
    "***\n",
    "So there are 20,608 schools on this record. By looking at the school that has 591 entries, the characteristics can be studied and see what they have in common with the other schools that have repeatedly used PGL."
   ]
  },
  {
   "cell_type": "code",
   "execution_count": 3,
   "id": "9d8788d3-5cb0-41d0-ba03-621dd07b2a8b",
   "metadata": {},
   "outputs": [
    {
     "data": {
      "text/html": [
       "<div>\n",
       "<style scoped>\n",
       "    .dataframe tbody tr th:only-of-type {\n",
       "        vertical-align: middle;\n",
       "    }\n",
       "\n",
       "    .dataframe tbody tr th {\n",
       "        vertical-align: top;\n",
       "    }\n",
       "\n",
       "    .dataframe thead th {\n",
       "        text-align: right;\n",
       "    }\n",
       "</style>\n",
       "<table border=\"1\" class=\"dataframe\">\n",
       "  <thead>\n",
       "    <tr style=\"text-align: right;\">\n",
       "      <th></th>\n",
       "      <th>Account Name</th>\n",
       "      <th>Establishment Aplicor ID</th>\n",
       "      <th>Contact Aplicor ID</th>\n",
       "      <th>Stage</th>\n",
       "      <th>Opportunity Source</th>\n",
       "      <th>Loss Reason</th>\n",
       "      <th>Product</th>\n",
       "      <th>Course</th>\n",
       "      <th>Booking Reference</th>\n",
       "      <th>Centre(s) of Interest</th>\n",
       "      <th>...</th>\n",
       "      <th>New_Existing</th>\n",
       "      <th>Booking Season</th>\n",
       "      <th>Time Lapse Band</th>\n",
       "      <th>Number of Children Band</th>\n",
       "      <th>PP Bracket</th>\n",
       "      <th>School Size by Pupils Banding</th>\n",
       "      <th>By Radias to Nearest Centre</th>\n",
       "      <th>Establishmet_Type</th>\n",
       "      <th>Decile_Value</th>\n",
       "      <th>Decile_F&amp;M</th>\n",
       "    </tr>\n",
       "  </thead>\n",
       "  <tbody>\n",
       "    <tr>\n",
       "      <th>1221</th>\n",
       "      <td>PGL Hen Party  (IT TEST RECORD) - nicktest2</td>\n",
       "      <td>D3CDEA22-A407-4D55-8BB6-2CDEFA39D20B</td>\n",
       "      <td>476E62B6-4BAE-4DEA-BE7D-6918F6D8A412</td>\n",
       "      <td>New</td>\n",
       "      <td>Brochure request</td>\n",
       "      <td>NaN</td>\n",
       "      <td>NaN</td>\n",
       "      <td>NaN</td>\n",
       "      <td>mm test</td>\n",
       "      <td>NaN</td>\n",
       "      <td>...</td>\n",
       "      <td>Existing</td>\n",
       "      <td>NaN</td>\n",
       "      <td>Do Not Apply</td>\n",
       "      <td>NaN</td>\n",
       "      <td>NaN</td>\n",
       "      <td>NaN</td>\n",
       "      <td>NaN</td>\n",
       "      <td>NaN</td>\n",
       "      <td>2.0</td>\n",
       "      <td>2.0</td>\n",
       "    </tr>\n",
       "    <tr>\n",
       "      <th>2069</th>\n",
       "      <td>PGL Hen Party  (IT TEST RECORD) - nicktest2</td>\n",
       "      <td>D3CDEA22-A407-4D55-8BB6-2CDEFA39D20B</td>\n",
       "      <td>096de55f-840f-9dbd-cfab-652c03e85dc7</td>\n",
       "      <td>Closed - Not Quoted</td>\n",
       "      <td>Email</td>\n",
       "      <td>Reason not Listed</td>\n",
       "      <td>AUK (Adventure UK)</td>\n",
       "      <td>NaN</td>\n",
       "      <td>AU21</td>\n",
       "      <td>NaN</td>\n",
       "      <td>...</td>\n",
       "      <td>Existing</td>\n",
       "      <td>NaN</td>\n",
       "      <td>Do Not Apply</td>\n",
       "      <td>NaN</td>\n",
       "      <td>NaN</td>\n",
       "      <td>NaN</td>\n",
       "      <td>NaN</td>\n",
       "      <td>NaN</td>\n",
       "      <td>2.0</td>\n",
       "      <td>2.0</td>\n",
       "    </tr>\n",
       "  </tbody>\n",
       "</table>\n",
       "<p>2 rows × 49 columns</p>\n",
       "</div>"
      ],
      "text/plain": [
       "                                     Account Name  \\\n",
       "1221  PGL Hen Party  (IT TEST RECORD) - nicktest2   \n",
       "2069  PGL Hen Party  (IT TEST RECORD) - nicktest2   \n",
       "\n",
       "                  Establishment Aplicor ID  \\\n",
       "1221  D3CDEA22-A407-4D55-8BB6-2CDEFA39D20B   \n",
       "2069  D3CDEA22-A407-4D55-8BB6-2CDEFA39D20B   \n",
       "\n",
       "                        Contact Aplicor ID                Stage  \\\n",
       "1221  476E62B6-4BAE-4DEA-BE7D-6918F6D8A412                  New   \n",
       "2069  096de55f-840f-9dbd-cfab-652c03e85dc7  Closed - Not Quoted   \n",
       "\n",
       "     Opportunity Source        Loss Reason             Product Course  \\\n",
       "1221   Brochure request                NaN                 NaN    NaN   \n",
       "2069              Email  Reason not Listed  AUK (Adventure UK)    NaN   \n",
       "\n",
       "     Booking Reference Centre(s) of Interest  ... New_Existing Booking Season  \\\n",
       "1221           mm test                   NaN  ...     Existing            NaN   \n",
       "2069              AU21                   NaN  ...     Existing            NaN   \n",
       "\n",
       "     Time Lapse Band Number of Children Band  PP Bracket  \\\n",
       "1221    Do Not Apply                     NaN         NaN   \n",
       "2069    Do Not Apply                     NaN         NaN   \n",
       "\n",
       "      School Size by Pupils Banding  By Radias to Nearest Centre  \\\n",
       "1221                            NaN                          NaN   \n",
       "2069                            NaN                          NaN   \n",
       "\n",
       "     Establishmet_Type Decile_Value  Decile_F&M  \n",
       "1221               NaN          2.0         2.0  \n",
       "2069               NaN          2.0         2.0  \n",
       "\n",
       "[2 rows x 49 columns]"
      ]
     },
     "execution_count": 3,
     "metadata": {},
     "output_type": "execute_result"
    }
   ],
   "source": [
    "df.loc[df[col[1]] == 'D3CDEA22-A407-4D55-8BB6-2CDEFA39D20B'].head(2)"
   ]
  },
  {
   "cell_type": "markdown",
   "id": "3abc3d16-ca0d-40a4-a402-d234d2ca27e2",
   "metadata": {},
   "source": [
    "***\n",
    "Looks like this Establishment Aplicor ID has been created for Hen parties or an 'IT TEST RECORD'. Changed it to just print the first record for less clutter."
   ]
  },
  {
   "cell_type": "code",
   "execution_count": 4,
   "id": "4f4466ab",
   "metadata": {},
   "outputs": [
    {
     "data": {
      "text/html": [
       "<div>\n",
       "<style scoped>\n",
       "    .dataframe tbody tr th:only-of-type {\n",
       "        vertical-align: middle;\n",
       "    }\n",
       "\n",
       "    .dataframe tbody tr th {\n",
       "        vertical-align: top;\n",
       "    }\n",
       "\n",
       "    .dataframe thead th {\n",
       "        text-align: right;\n",
       "    }\n",
       "</style>\n",
       "<table border=\"1\" class=\"dataframe\">\n",
       "  <thead>\n",
       "    <tr style=\"text-align: right;\">\n",
       "      <th></th>\n",
       "      <th>Account Name</th>\n",
       "      <th>Establishment Aplicor ID</th>\n",
       "      <th>Contact Aplicor ID</th>\n",
       "      <th>Stage</th>\n",
       "      <th>Opportunity Source</th>\n",
       "      <th>Loss Reason</th>\n",
       "      <th>Product</th>\n",
       "      <th>Course</th>\n",
       "      <th>Booking Reference</th>\n",
       "      <th>Centre(s) of Interest</th>\n",
       "      <th>...</th>\n",
       "      <th>New_Existing</th>\n",
       "      <th>Booking Season</th>\n",
       "      <th>Time Lapse Band</th>\n",
       "      <th>Number of Children Band</th>\n",
       "      <th>PP Bracket</th>\n",
       "      <th>School Size by Pupils Banding</th>\n",
       "      <th>By Radias to Nearest Centre</th>\n",
       "      <th>Establishmet_Type</th>\n",
       "      <th>Decile_Value</th>\n",
       "      <th>Decile_F&amp;M</th>\n",
       "    </tr>\n",
       "  </thead>\n",
       "  <tbody>\n",
       "    <tr>\n",
       "      <th>27249</th>\n",
       "      <td>Backwell School (Lighthouse Schools Partnership)</td>\n",
       "      <td>90019712-630C-46A5-97DA-3700973C36D4</td>\n",
       "      <td>0EFAB743-3461-4EB9-A2DE-3B96C90E5C3E</td>\n",
       "      <td>Completed</td>\n",
       "      <td>NaN</td>\n",
       "      <td>NaN</td>\n",
       "      <td>OSA (Overseas Adventure)</td>\n",
       "      <td>NaN</td>\n",
       "      <td>AF00000148</td>\n",
       "      <td>NaN</td>\n",
       "      <td>...</td>\n",
       "      <td>New</td>\n",
       "      <td>Spring</td>\n",
       "      <td>301-3000</td>\n",
       "      <td>21-50</td>\n",
       "      <td>0%-10%</td>\n",
       "      <td>1001-1500</td>\n",
       "      <td>45 - 50 Miles</td>\n",
       "      <td>Secondary</td>\n",
       "      <td>7.0</td>\n",
       "      <td>9.0</td>\n",
       "    </tr>\n",
       "    <tr>\n",
       "      <th>27250</th>\n",
       "      <td>Backwell School (Lighthouse Schools Partnership)</td>\n",
       "      <td>90019712-630C-46A5-97DA-3700973C36D4</td>\n",
       "      <td>0DC0C86E-1262-4293-9D6E-A36A765093CB</td>\n",
       "      <td>Completed</td>\n",
       "      <td>NaN</td>\n",
       "      <td>NaN</td>\n",
       "      <td>OSA (Overseas Adventure)</td>\n",
       "      <td>NaN</td>\n",
       "      <td>AF00000216</td>\n",
       "      <td>NaN</td>\n",
       "      <td>...</td>\n",
       "      <td>Existing</td>\n",
       "      <td>Summer</td>\n",
       "      <td>301-3000</td>\n",
       "      <td>21-50</td>\n",
       "      <td>0%-10%</td>\n",
       "      <td>1001-1500</td>\n",
       "      <td>45 - 50 Miles</td>\n",
       "      <td>Secondary</td>\n",
       "      <td>7.0</td>\n",
       "      <td>9.0</td>\n",
       "    </tr>\n",
       "  </tbody>\n",
       "</table>\n",
       "<p>2 rows × 49 columns</p>\n",
       "</div>"
      ],
      "text/plain": [
       "                                           Account Name  \\\n",
       "27249  Backwell School (Lighthouse Schools Partnership)   \n",
       "27250  Backwell School (Lighthouse Schools Partnership)   \n",
       "\n",
       "                   Establishment Aplicor ID  \\\n",
       "27249  90019712-630C-46A5-97DA-3700973C36D4   \n",
       "27250  90019712-630C-46A5-97DA-3700973C36D4   \n",
       "\n",
       "                         Contact Aplicor ID      Stage Opportunity Source  \\\n",
       "27249  0EFAB743-3461-4EB9-A2DE-3B96C90E5C3E  Completed                NaN   \n",
       "27250  0DC0C86E-1262-4293-9D6E-A36A765093CB  Completed                NaN   \n",
       "\n",
       "      Loss Reason                   Product Course Booking Reference  \\\n",
       "27249         NaN  OSA (Overseas Adventure)    NaN        AF00000148   \n",
       "27250         NaN  OSA (Overseas Adventure)    NaN        AF00000216   \n",
       "\n",
       "      Centre(s) of Interest  ... New_Existing Booking Season Time Lapse Band  \\\n",
       "27249                   NaN  ...          New         Spring        301-3000   \n",
       "27250                   NaN  ...     Existing         Summer        301-3000   \n",
       "\n",
       "      Number of Children Band  PP Bracket  School Size by Pupils Banding  \\\n",
       "27249                   21-50      0%-10%                      1001-1500   \n",
       "27250                   21-50      0%-10%                      1001-1500   \n",
       "\n",
       "       By Radias to Nearest Centre Establishmet_Type Decile_Value  Decile_F&M  \n",
       "27249                45 - 50 Miles         Secondary          7.0         9.0  \n",
       "27250                45 - 50 Miles         Secondary          7.0         9.0  \n",
       "\n",
       "[2 rows x 49 columns]"
      ]
     },
     "execution_count": 4,
     "metadata": {},
     "output_type": "execute_result"
    }
   ],
   "source": [
    "df.loc[df[col[1]] == '90019712-630C-46A5-97DA-3700973C36D4'].head(2)"
   ]
  },
  {
   "cell_type": "markdown",
   "id": "8079103f",
   "metadata": {},
   "source": [
    "The next highest establishment is a school so I am gathering that the rest are real schools as well.\n",
    "\n",
    "The line below takes the top 500 and lowest 500 schools based on how many times they have used PGL and stores them into top_establishments and lower_establishments respectively to compare how different columns compare between the two grroups."
   ]
  },
  {
   "cell_type": "code",
   "execution_count": 5,
   "id": "9dbad465-c14f-4c5c-849f-0e905eca65a7",
   "metadata": {},
   "outputs": [],
   "source": [
    "top_establishments_interaction = df[col[1]].loc[df[col[1]].notna()].value_counts().head(50)\n",
    "top_establishments = df[col[1]].loc[df[col[1]].notna()].value_counts().head(500).index.tolist()\n",
    "lower_establishments = df[col[1]].loc[df[col[1]].notna()].value_counts().tail(500).index.tolist()\n",
    "\n",
    "# removing the hen party IT one\n",
    "top_establishments.remove('D3CDEA22-A407-4D55-8BB6-2CDEFA39D20B')"
   ]
  },
  {
   "cell_type": "markdown",
   "id": "2c59d834",
   "metadata": {},
   "source": [
    "Thinking about how to plot each cateogory, the first attempt just plotted all the values for each time the schools used PGL. For a band like the school size, this just skewed the bars as if a school used PGL 100 times then a bar would be representing 1 school 100 times. The lowest schools have probably only used them once so only 1 entry would be used. Because of this, the below function takes all the entries for each school and takes the mode of them. This seems the be the fairest option at the moment.\n",
    "\n",
    "The function below takes a column of choice and an order of the options if applicable (if not enter 0 for this). It will then produce a barchart comparing the best and worst schools."
   ]
  },
  {
   "cell_type": "code",
   "execution_count": 30,
   "id": "7ea3ad14-f7dd-4327-adcf-d62c43a1ea00",
   "metadata": {},
   "outputs": [],
   "source": [
    "def mode_bar_bands(column,order):\n",
    "    upper_schools = df.loc[df[col[1]].isin(top_establishments)]\n",
    "    upper_mode= upper_schools.groupby([col[1]])[column].agg(pd.Series.mode).explode()\n",
    "    upper_mode = upper_mode[(upper_mode.str.len() > 0)]\n",
    "    \n",
    "    lower_schools = df.loc[df[col[1]].isin(lower_establishments)]\n",
    "    lower_mode = lower_schools.groupby([col[1]])[column].agg(pd.Series.mode).explode()\n",
    "    lower_mode = lower_mode[lower_mode.str.len() > 0]\n",
    "    plt.style.use('seaborn')\n",
    "    d = pd.DataFrame({'upper_mode' : upper_mode.value_counts(normalize=True).mul(100), 'lower_mode' : lower_mode.value_counts(normalize=True).mul(100)})\n",
    "    if order != 0:\n",
    "        d.sort_index().loc[order].plot.bar()\n",
    "    else:\n",
    "        d.sort_index().plot.bar()\n",
    "    plt.legend()\n",
    "    plt.title('Chart to show the mode of each school for ' + column)\n",
    "    plt.xlabel(column)\n",
    "    plt.ylabel('Percentage of of schools [%]')\n",
    "    \n",
    "    print(\"Number of top schools used that have values = \", len(upper_mode))\n",
    "    print(\"Number of bottom schools used that have values = \", len(lower_mode))\n",
    "    return d"
   ]
  },
  {
   "cell_type": "code",
   "execution_count": 7,
   "id": "2a9852e1",
   "metadata": {},
   "outputs": [
    {
     "name": "stdout",
     "output_type": "stream",
     "text": [
      "Number of top schools used that have values =  125\n",
      "Number of bottom schools used that have values =  128\n"
     ]
    },
    {
     "data": {
      "image/png": "[encoded data removed]",
      "text/plain": [
       "<Figure size 800x550 with 1 Axes>"
      ]
     },
     "metadata": {},
     "output_type": "display_data"
    }
   ],
   "source": [
    "order = ['0-100','101-250','251-500','501-1000','1001-1500','1501-2001']\n",
    "mode_bar_bands(col[44],order)"
   ]
  },
  {
   "cell_type": "markdown",
   "id": "93716a37",
   "metadata": {},
   "source": [
    "Looking at the influence of school size banding, it seems like the best schools are in the 501-1000 band and the worst seem to be in the 101-250. Interesting how its not the biggest and the smallest but this could also be because of the average size of schools which will play a factor. This meeans that PGL could still target the even larger schools fromm 500 upwards."
   ]
  },
  {
   "cell_type": "code",
   "execution_count": 31,
   "id": "8e63fc0e-a2e9-46ce-b71e-7b361930f687",
   "metadata": {},
   "outputs": [
    {
     "name": "stdout",
     "output_type": "stream",
     "text": [
      "Number of top schools used that have values =  124\n",
      "Number of bottom schools used that have values =  125\n"
     ]
    },
    {
     "data": {
      "image/png": "[encoded data removed]",
      "text/plain": [
       "<Figure size 800x550 with 1 Axes>"
      ]
     },
     "metadata": {},
     "output_type": "display_data"
    }
   ],
   "source": [
    "d = mode_bar_bands(col[43], 0)"
   ]
  },
  {
   "cell_type": "markdown",
   "id": "dd4e5c00",
   "metadata": {},
   "source": [
    "Above shows that the schools that have used PGL the most tend to be in the 11-22% range for government funding. This is also shown by the worst schools as well though and the general trend seems to be the same. This may suggest that this column doesnt have much of an influnece."
   ]
  },
  {
   "cell_type": "code",
   "execution_count": 34,
   "id": "3edb351b",
   "metadata": {},
   "outputs": [
    {
     "name": "stdout",
     "output_type": "stream",
     "text": [
      "Number of top schools used that have values =  530\n",
      "Number of bottom schools used that have values =  261\n"
     ]
    }
   ],
   "source": [
    "order_months = ['Jan','Feb','Mar','Apr','May','Jun','Jul','Aug','Sep','Oct','Nov','Dec']\n",
    "mode_bar_bands(col[31],order_months)\n",
    "plt.close()"
   ]
  },
  {
   "cell_type": "code",
   "execution_count": 33,
   "id": "c4b85449",
   "metadata": {},
   "outputs": [
    {
     "name": "stdout",
     "output_type": "stream",
     "text": [
      "Number of top schools used that have values =  506\n",
      "Number of bottom schools used that have values =  482\n"
     ]
    }
   ],
   "source": [
    "mode_bar_bands(col[6],0)\n",
    "plt.close()"
   ]
  },
  {
   "cell_type": "code",
   "execution_count": 32,
   "id": "1f6bbfdc",
   "metadata": {},
   "outputs": [
    {
     "name": "stdout",
     "output_type": "stream",
     "text": [
      "Number of top schools used that have values =  525\n",
      "Number of bottom schools used that have values =  491\n"
     ]
    }
   ],
   "source": [
    "mode_bar_bands(col[3],0)\n",
    "plt.close()"
   ]
  },
  {
   "cell_type": "markdown",
   "id": "a58017af-8de3-47d5-bcab-d1e7d359c3f1",
   "metadata": {},
   "source": [
    "***\n",
    "Relating these plots to a decile, starting with the PP bracket (amount of funding a school receives from the government).\n",
    "\n"
   ]
  },
  {
   "cell_type": "code",
   "execution_count": 43,
   "id": "bd3a00c0-6a29-48da-ae82-cde0d6c6ee47",
   "metadata": {},
   "outputs": [
    {
     "data": {
      "text/plain": [
       "11%-22%    40.322581\n",
       "0%-10%     21.774194\n",
       "23%-30%    19.354839\n",
       "31%-40%    13.709677\n",
       "41%-50%     4.032258\n",
       "61%-70%     0.806452\n",
       "51%-60%          NaN\n",
       "Name: upper_mode, dtype: float64"
      ]
     },
     "execution_count": 43,
     "metadata": {},
     "output_type": "execute_result"
    }
   ],
   "source": [
    "d['upper_mode'].sort_values(ascending=False)"
   ]
  },
  {
   "cell_type": "markdown",
   "id": "e575571e",
   "metadata": {},
   "source": [
    "***\n",
    "\n",
    "Now that function only works for the columns with bands. In order to use the columns that have a non-discretised value, the best solution will be to take the average of the numbers. This means that the results cannot be plotted as barcharts anymore so a scatter graph will be used to see if it represents the data well."
   ]
  },
  {
   "cell_type": "code",
   "execution_count": 28,
   "id": "097deb80",
   "metadata": {},
   "outputs": [
    {
     "name": "stdout",
     "output_type": "stream",
     "text": [
      "Number of top schools used that have values =  499\n",
      "Number of bottom schools used that have values =  500\n"
     ]
    }
   ],
   "source": [
    "def average_bar(column,order):\n",
    "    upper_schools = df.loc[df[col[1]].isin(top_establishments)]\n",
    "    upper_school_interaction = upper_schools.value_counts(col[1])\n",
    "    upper_mode = upper_schools.groupby([col[1]])[column].agg(pd.Series.mean)\n",
    "    upper_schools = pd.DataFrame({'interaction' : upper_school_interaction, 'mean' : upper_mode})\n",
    "    \n",
    "    lower_schools = df.loc[df[col[1]].isin(lower_establishments)]\n",
    "    lower_school_interaction = lower_schools.value_counts(col[1])\n",
    "    lower_mode = lower_schools.groupby([col[1]])[column].agg(pd.Series.mean)\n",
    "    lower_schools = pd.DataFrame({'interaction' : lower_school_interaction, 'mean' : lower_mode})\n",
    "    lower_schools = lower_schools.sort_values('mean')\n",
    "    \n",
    "    plt.figure(figsize=(10,5))\n",
    "    plt.style.use('seaborn')\n",
    "    plt.subplot(1,2,1)\n",
    "    plt.scatter(upper_schools['interaction'], upper_schools['mean'])\n",
    "    plt.xlabel('Times top establishments have used PGL')\n",
    "    plt.ylabel(column)\n",
    "    plt.suptitle('Relationship between '+column+' and the number of times they have used PGL')\n",
    "\n",
    "    plt.subplot(1,2,2)\n",
    "    plt.scatter(lower_school_interaction, lower_mode, linewidths=2)\n",
    "    # plt.legend()\n",
    "    plt.xlabel('Times lower establishments have used PGL')\n",
    "    # plt.ylabel('Percentage of of schools [%]')\n",
    "    \n",
    "    print(\"Number of top schools used that have values = \", len(upper_mode))\n",
    "    print(\"Number of bottom schools used that have values = \", len(lower_mode))\n",
    "\n",
    "average_bar(col[22],0)\n",
    "plt.close()"
   ]
  },
  {
   "cell_type": "markdown",
   "id": "1ceba86e-35a7-4de0-89d9-f6e42bc66d79",
   "metadata": {},
   "source": [
    "This may not be that useful. After plotting it, the lower schools are all just going to have used PGL once which is why it is just a vertical line. The top schools cluster is quite hard to read.\n",
    "\n",
    "Maybe plotting gross revenue against something like the month they booked?"
   ]
  },
  {
   "cell_type": "code",
   "execution_count": 29,
   "id": "2bf9622b-b998-41dd-ac39-2428c0ea78e4",
   "metadata": {},
   "outputs": [],
   "source": [
    "column = col[19]\n",
    "upper_schools = df.loc[df[col[1]].isin(top_establishments)]\n",
    "upper_school_interaction = upper_schools.value_counts(col[1])\n",
    "upper_mode = upper_schools.groupby([col[1]])[column].agg(pd.Series.mean)\n",
    "    \n",
    "lower_schools = df.loc[df[col[1]].isin(lower_establishments)]\n",
    "lower_mode = lower_schools.groupby([col[1]])[column].agg(pd.Series.mean)\n",
    "plt.figure(figsize=(20,5))\n",
    "plt.plot(upper_school_interaction, upper_mode)\n",
    "plt.close()"
   ]
  }
 ],
 "metadata": {
  "kernelspec": {
   "display_name": "Python 3 (ipykernel)",
   "language": "python",
   "name": "python3"
  },
  "language_info": {
   "codemirror_mode": {
    "name": "ipython",
    "version": 3
   },
   "file_extension": ".py",
   "mimetype": "text/x-python",
   "name": "python",
   "nbconvert_exporter": "python",
   "pygments_lexer": "ipython3",
   "version": "3.10.9"
  },
  "vscode": {
   "interpreter": {
    "hash": "767d51c1340bd893661ea55ea3124f6de3c7a262a8b4abca0554b478b1e2ff90"
   }
  }
 },
 "nbformat": 4,
 "nbformat_minor": 5
}
