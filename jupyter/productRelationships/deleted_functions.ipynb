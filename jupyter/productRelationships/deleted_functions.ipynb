{
 "cells": [
  {
   "cell_type": "code",
   "execution_count": null,
   "id": "5ceac584-a3e4-429d-8b0a-c21701f2c914",
   "metadata": {},
   "outputs": [],
   "source": [
    "def subsqtydist(names):\n",
    "    fig, ax = plt.subplots(figsize=(10,6))\n",
    "    for name in names:\n",
    "        lines = d1.loc[d1['subs'].str.contains(name)]\n",
    "        values = lines['subsqty']\n",
    "        values = values.sort_values(ascending=True)\n",
    "        vals_mean = np.mean(values)\n",
    "        vals_stddev = stats.tstd(values)\n",
    "        nd = norm.pdf(values, vals_mean, vals_stddev)\n",
    "        print(\"%s has a standard deviation of %.0f\" % (name, vals_stddev))\n",
    "        ax.plot(values, nd,label=name)\n",
    "\n",
    "    print('----------------------------------------')\n",
    "    for name in names:\n",
    "        lines = d1.loc[d1['subs'].str.contains(name)]\n",
    "        values = lines['subsqty']\n",
    "        values = values.sort_values(ascending=True)\n",
    "        vals_mean = np.mean(values)\n",
    "        print(\"%s has a mean of %.0f\" % (name, vals_mean))\n",
    "\n",
    "    ax.set_title(\"Standard Deviation for Subsequent purchases\")\n",
    "    ax.set_xlabel(\"QTY bought\")\n",
    "    ax.set_xlim([-50,5000])\n",
    "    ax.set_ylim(0)\n",
    "    ax.legend()\n",
    "\n",
    "#names[0] will hold ACC HELMET\n",
    "subsqtydist(names)"
   ]
  }
 ],
 "metadata": {
  "kernelspec": {
   "display_name": "Python 3 (ipykernel)",
   "language": "python",
   "name": "python3"
  },
  "language_info": {
   "codemirror_mode": {
    "name": "ipython",
    "version": 3
   },
   "file_extension": ".py",
   "mimetype": "text/x-python",
   "name": "python",
   "nbconvert_exporter": "python",
   "pygments_lexer": "ipython3",
   "version": "3.10.9"
  }
 },
 "nbformat": 4,
 "nbformat_minor": 5
}
